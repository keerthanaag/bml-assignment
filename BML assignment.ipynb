{
 "cells": [
  {
   "cell_type": "markdown",
   "id": "c054f5c9",
   "metadata": {},
   "source": [
    "DATA PREPROCESSING (ASSIGNMENT -1)"
   ]
  },
  {
   "cell_type": "code",
   "execution_count": 13,
   "id": "6ffe4c5f",
   "metadata": {},
   "outputs": [],
   "source": [
    "import pandas as pd\n",
    "import numpy as np\n",
    "import seaborn as sns"
   ]
  },
  {
   "cell_type": "markdown",
   "id": "1b67b0c2",
   "metadata": {},
   "source": [
    "# IMPORTING DATASET"
   ]
  },
  {
   "cell_type": "code",
   "execution_count": 14,
   "id": "3164bc3e",
   "metadata": {},
   "outputs": [
    {
     "data": {
      "text/html": [
       "<div>\n",
       "<style scoped>\n",
       "    .dataframe tbody tr th:only-of-type {\n",
       "        vertical-align: middle;\n",
       "    }\n",
       "\n",
       "    .dataframe tbody tr th {\n",
       "        vertical-align: top;\n",
       "    }\n",
       "\n",
       "    .dataframe thead th {\n",
       "        text-align: right;\n",
       "    }\n",
       "</style>\n",
       "<table border=\"1\" class=\"dataframe\">\n",
       "  <thead>\n",
       "    <tr style=\"text-align: right;\">\n",
       "      <th></th>\n",
       "      <th>Date</th>\n",
       "      <th>Open</th>\n",
       "      <th>High</th>\n",
       "      <th>Low</th>\n",
       "      <th>Close</th>\n",
       "      <th>Adj_Close</th>\n",
       "      <th>Volume</th>\n",
       "    </tr>\n",
       "  </thead>\n",
       "  <tbody>\n",
       "    <tr>\n",
       "      <th>0</th>\n",
       "      <td>2000/3/27</td>\n",
       "      <td>3.812500</td>\n",
       "      <td>4.156250</td>\n",
       "      <td>3.812500</td>\n",
       "      <td>4.125000</td>\n",
       "      <td>4.125000</td>\n",
       "      <td>3675600</td>\n",
       "    </tr>\n",
       "    <tr>\n",
       "      <th>1</th>\n",
       "      <td>2000/3/28</td>\n",
       "      <td>4.125000</td>\n",
       "      <td>4.125000</td>\n",
       "      <td>4.000000</td>\n",
       "      <td>4.015625</td>\n",
       "      <td>4.015625</td>\n",
       "      <td>1077600</td>\n",
       "    </tr>\n",
       "    <tr>\n",
       "      <th>2</th>\n",
       "      <td>2000/3/29</td>\n",
       "      <td>4.000000</td>\n",
       "      <td>4.031250</td>\n",
       "      <td>3.953125</td>\n",
       "      <td>4.000000</td>\n",
       "      <td>4.000000</td>\n",
       "      <td>437200</td>\n",
       "    </tr>\n",
       "    <tr>\n",
       "      <th>3</th>\n",
       "      <td>2000/3/30</td>\n",
       "      <td>4.000000</td>\n",
       "      <td>4.000000</td>\n",
       "      <td>3.843750</td>\n",
       "      <td>3.843750</td>\n",
       "      <td>3.843750</td>\n",
       "      <td>1883600</td>\n",
       "    </tr>\n",
       "    <tr>\n",
       "      <th>4</th>\n",
       "      <td>2000/3/31</td>\n",
       "      <td>3.734375</td>\n",
       "      <td>3.734375</td>\n",
       "      <td>3.390625</td>\n",
       "      <td>3.390625</td>\n",
       "      <td>3.390625</td>\n",
       "      <td>7931600</td>\n",
       "    </tr>\n",
       "    <tr>\n",
       "      <th>...</th>\n",
       "      <td>...</td>\n",
       "      <td>...</td>\n",
       "      <td>...</td>\n",
       "      <td>...</td>\n",
       "      <td>...</td>\n",
       "      <td>...</td>\n",
       "      <td>...</td>\n",
       "    </tr>\n",
       "    <tr>\n",
       "      <th>4387</th>\n",
       "      <td>2017/9/1</td>\n",
       "      <td>113.790001</td>\n",
       "      <td>114.099998</td>\n",
       "      <td>112.790001</td>\n",
       "      <td>113.309998</td>\n",
       "      <td>113.309998</td>\n",
       "      <td>950000</td>\n",
       "    </tr>\n",
       "    <tr>\n",
       "      <th>4388</th>\n",
       "      <td>2017/9/5</td>\n",
       "      <td>112.519997</td>\n",
       "      <td>113.529999</td>\n",
       "      <td>111.160004</td>\n",
       "      <td>111.870003</td>\n",
       "      <td>111.870003</td>\n",
       "      <td>1805200</td>\n",
       "    </tr>\n",
       "    <tr>\n",
       "      <th>4389</th>\n",
       "      <td>2017/9/6</td>\n",
       "      <td>112.029999</td>\n",
       "      <td>112.489998</td>\n",
       "      <td>110.250000</td>\n",
       "      <td>112.230003</td>\n",
       "      <td>112.230003</td>\n",
       "      <td>2136700</td>\n",
       "    </tr>\n",
       "    <tr>\n",
       "      <th>4390</th>\n",
       "      <td>2017/9/7</td>\n",
       "      <td>112.459999</td>\n",
       "      <td>112.900002</td>\n",
       "      <td>112.000000</td>\n",
       "      <td>112.339996</td>\n",
       "      <td>112.339996</td>\n",
       "      <td>1251600</td>\n",
       "    </tr>\n",
       "    <tr>\n",
       "      <th>4391</th>\n",
       "      <td>2017/9/8</td>\n",
       "      <td>112.300003</td>\n",
       "      <td>114.790001</td>\n",
       "      <td>112.010002</td>\n",
       "      <td>113.190002</td>\n",
       "      <td>113.190002</td>\n",
       "      <td>1611700</td>\n",
       "    </tr>\n",
       "  </tbody>\n",
       "</table>\n",
       "<p>4392 rows × 7 columns</p>\n",
       "</div>"
      ],
      "text/plain": [
       "           Date        Open        High         Low       Close   Adj_Close  \\\n",
       "0     2000/3/27    3.812500    4.156250    3.812500    4.125000    4.125000   \n",
       "1     2000/3/28    4.125000    4.125000    4.000000    4.015625    4.015625   \n",
       "2     2000/3/29    4.000000    4.031250    3.953125    4.000000    4.000000   \n",
       "3     2000/3/30    4.000000    4.000000    3.843750    3.843750    3.843750   \n",
       "4     2000/3/31    3.734375    3.734375    3.390625    3.390625    3.390625   \n",
       "...         ...         ...         ...         ...         ...         ...   \n",
       "4387   2017/9/1  113.790001  114.099998  112.790001  113.309998  113.309998   \n",
       "4388   2017/9/5  112.519997  113.529999  111.160004  111.870003  111.870003   \n",
       "4389   2017/9/6  112.029999  112.489998  110.250000  112.230003  112.230003   \n",
       "4390   2017/9/7  112.459999  112.900002  112.000000  112.339996  112.339996   \n",
       "4391   2017/9/8  112.300003  114.790001  112.010002  113.190002  113.190002   \n",
       "\n",
       "       Volume  \n",
       "0     3675600  \n",
       "1     1077600  \n",
       "2      437200  \n",
       "3     1883600  \n",
       "4     7931600  \n",
       "...       ...  \n",
       "4387   950000  \n",
       "4388  1805200  \n",
       "4389  2136700  \n",
       "4390  1251600  \n",
       "4391  1611700  \n",
       "\n",
       "[4392 rows x 7 columns]"
      ]
     },
     "execution_count": 14,
     "metadata": {},
     "output_type": "execute_result"
    }
   ],
   "source": [
    "dataset=pd.read_csv('C:/Users/gkeer/Downloads/salary')\n",
    "dataset"
   ]
  },
  {
   "cell_type": "code",
   "execution_count": 15,
   "id": "e98e4fc9",
   "metadata": {},
   "outputs": [],
   "source": [
    "import random\n",
    "ix = [(row, col) for row in range(dataset.shape[0]) for col in range(dataset.shape[1])]\n",
    "for row, col in random.sample(ix, int(round(.1*len(ix)))):\n",
    "    dataset.iat[row, col] = np.nan"
   ]
  },
  {
   "cell_type": "code",
   "execution_count": 16,
   "id": "7b4ff015",
   "metadata": {},
   "outputs": [
    {
     "data": {
      "text/html": [
       "<div>\n",
       "<style scoped>\n",
       "    .dataframe tbody tr th:only-of-type {\n",
       "        vertical-align: middle;\n",
       "    }\n",
       "\n",
       "    .dataframe tbody tr th {\n",
       "        vertical-align: top;\n",
       "    }\n",
       "\n",
       "    .dataframe thead th {\n",
       "        text-align: right;\n",
       "    }\n",
       "</style>\n",
       "<table border=\"1\" class=\"dataframe\">\n",
       "  <thead>\n",
       "    <tr style=\"text-align: right;\">\n",
       "      <th></th>\n",
       "      <th>Date</th>\n",
       "      <th>Open</th>\n",
       "      <th>High</th>\n",
       "      <th>Low</th>\n",
       "      <th>Close</th>\n",
       "      <th>Adj_Close</th>\n",
       "      <th>Volume</th>\n",
       "    </tr>\n",
       "  </thead>\n",
       "  <tbody>\n",
       "    <tr>\n",
       "      <th>0</th>\n",
       "      <td>2000/3/27</td>\n",
       "      <td>3.812500</td>\n",
       "      <td>4.156250</td>\n",
       "      <td>3.812500</td>\n",
       "      <td>NaN</td>\n",
       "      <td>NaN</td>\n",
       "      <td>NaN</td>\n",
       "    </tr>\n",
       "    <tr>\n",
       "      <th>1</th>\n",
       "      <td>2000/3/28</td>\n",
       "      <td>4.125000</td>\n",
       "      <td>4.125000</td>\n",
       "      <td>4.000000</td>\n",
       "      <td>4.015625</td>\n",
       "      <td>4.015625</td>\n",
       "      <td>1077600.0</td>\n",
       "    </tr>\n",
       "    <tr>\n",
       "      <th>2</th>\n",
       "      <td>NaN</td>\n",
       "      <td>4.000000</td>\n",
       "      <td>4.031250</td>\n",
       "      <td>3.953125</td>\n",
       "      <td>NaN</td>\n",
       "      <td>4.000000</td>\n",
       "      <td>437200.0</td>\n",
       "    </tr>\n",
       "    <tr>\n",
       "      <th>3</th>\n",
       "      <td>2000/3/30</td>\n",
       "      <td>4.000000</td>\n",
       "      <td>NaN</td>\n",
       "      <td>3.843750</td>\n",
       "      <td>3.843750</td>\n",
       "      <td>3.843750</td>\n",
       "      <td>1883600.0</td>\n",
       "    </tr>\n",
       "    <tr>\n",
       "      <th>4</th>\n",
       "      <td>NaN</td>\n",
       "      <td>NaN</td>\n",
       "      <td>3.734375</td>\n",
       "      <td>3.390625</td>\n",
       "      <td>NaN</td>\n",
       "      <td>3.390625</td>\n",
       "      <td>7931600.0</td>\n",
       "    </tr>\n",
       "    <tr>\n",
       "      <th>...</th>\n",
       "      <td>...</td>\n",
       "      <td>...</td>\n",
       "      <td>...</td>\n",
       "      <td>...</td>\n",
       "      <td>...</td>\n",
       "      <td>...</td>\n",
       "      <td>...</td>\n",
       "    </tr>\n",
       "    <tr>\n",
       "      <th>4387</th>\n",
       "      <td>2017/9/1</td>\n",
       "      <td>113.790001</td>\n",
       "      <td>114.099998</td>\n",
       "      <td>112.790001</td>\n",
       "      <td>NaN</td>\n",
       "      <td>113.309998</td>\n",
       "      <td>NaN</td>\n",
       "    </tr>\n",
       "    <tr>\n",
       "      <th>4388</th>\n",
       "      <td>2017/9/5</td>\n",
       "      <td>112.519997</td>\n",
       "      <td>113.529999</td>\n",
       "      <td>111.160004</td>\n",
       "      <td>111.870003</td>\n",
       "      <td>111.870003</td>\n",
       "      <td>NaN</td>\n",
       "    </tr>\n",
       "    <tr>\n",
       "      <th>4389</th>\n",
       "      <td>NaN</td>\n",
       "      <td>112.029999</td>\n",
       "      <td>112.489998</td>\n",
       "      <td>110.250000</td>\n",
       "      <td>112.230003</td>\n",
       "      <td>112.230003</td>\n",
       "      <td>2136700.0</td>\n",
       "    </tr>\n",
       "    <tr>\n",
       "      <th>4390</th>\n",
       "      <td>2017/9/7</td>\n",
       "      <td>112.459999</td>\n",
       "      <td>NaN</td>\n",
       "      <td>112.000000</td>\n",
       "      <td>112.339996</td>\n",
       "      <td>112.339996</td>\n",
       "      <td>1251600.0</td>\n",
       "    </tr>\n",
       "    <tr>\n",
       "      <th>4391</th>\n",
       "      <td>2017/9/8</td>\n",
       "      <td>112.300003</td>\n",
       "      <td>114.790001</td>\n",
       "      <td>112.010002</td>\n",
       "      <td>113.190002</td>\n",
       "      <td>113.190002</td>\n",
       "      <td>1611700.0</td>\n",
       "    </tr>\n",
       "  </tbody>\n",
       "</table>\n",
       "<p>4392 rows × 7 columns</p>\n",
       "</div>"
      ],
      "text/plain": [
       "           Date        Open        High         Low       Close   Adj_Close  \\\n",
       "0     2000/3/27    3.812500    4.156250    3.812500         NaN         NaN   \n",
       "1     2000/3/28    4.125000    4.125000    4.000000    4.015625    4.015625   \n",
       "2           NaN    4.000000    4.031250    3.953125         NaN    4.000000   \n",
       "3     2000/3/30    4.000000         NaN    3.843750    3.843750    3.843750   \n",
       "4           NaN         NaN    3.734375    3.390625         NaN    3.390625   \n",
       "...         ...         ...         ...         ...         ...         ...   \n",
       "4387   2017/9/1  113.790001  114.099998  112.790001         NaN  113.309998   \n",
       "4388   2017/9/5  112.519997  113.529999  111.160004  111.870003  111.870003   \n",
       "4389        NaN  112.029999  112.489998  110.250000  112.230003  112.230003   \n",
       "4390   2017/9/7  112.459999         NaN  112.000000  112.339996  112.339996   \n",
       "4391   2017/9/8  112.300003  114.790001  112.010002  113.190002  113.190002   \n",
       "\n",
       "         Volume  \n",
       "0           NaN  \n",
       "1     1077600.0  \n",
       "2      437200.0  \n",
       "3     1883600.0  \n",
       "4     7931600.0  \n",
       "...         ...  \n",
       "4387        NaN  \n",
       "4388        NaN  \n",
       "4389  2136700.0  \n",
       "4390  1251600.0  \n",
       "4391  1611700.0  \n",
       "\n",
       "[4392 rows x 7 columns]"
      ]
     },
     "execution_count": 16,
     "metadata": {},
     "output_type": "execute_result"
    }
   ],
   "source": [
    "dataset"
   ]
  },
  {
   "cell_type": "code",
   "execution_count": 17,
   "id": "7da6e142",
   "metadata": {},
   "outputs": [
    {
     "data": {
      "text/html": [
       "<div>\n",
       "<style scoped>\n",
       "    .dataframe tbody tr th:only-of-type {\n",
       "        vertical-align: middle;\n",
       "    }\n",
       "\n",
       "    .dataframe tbody tr th {\n",
       "        vertical-align: top;\n",
       "    }\n",
       "\n",
       "    .dataframe thead th {\n",
       "        text-align: right;\n",
       "    }\n",
       "</style>\n",
       "<table border=\"1\" class=\"dataframe\">\n",
       "  <thead>\n",
       "    <tr style=\"text-align: right;\">\n",
       "      <th></th>\n",
       "      <th>Open</th>\n",
       "      <th>High</th>\n",
       "      <th>Low</th>\n",
       "      <th>Close</th>\n",
       "      <th>Volume</th>\n",
       "    </tr>\n",
       "  </thead>\n",
       "  <tbody>\n",
       "    <tr>\n",
       "      <th>0</th>\n",
       "      <td>3.812500</td>\n",
       "      <td>4.156250</td>\n",
       "      <td>3.812500</td>\n",
       "      <td>NaN</td>\n",
       "      <td>NaN</td>\n",
       "    </tr>\n",
       "    <tr>\n",
       "      <th>1</th>\n",
       "      <td>4.125000</td>\n",
       "      <td>4.125000</td>\n",
       "      <td>4.000000</td>\n",
       "      <td>4.015625</td>\n",
       "      <td>1077600.0</td>\n",
       "    </tr>\n",
       "    <tr>\n",
       "      <th>2</th>\n",
       "      <td>4.000000</td>\n",
       "      <td>4.031250</td>\n",
       "      <td>3.953125</td>\n",
       "      <td>NaN</td>\n",
       "      <td>437200.0</td>\n",
       "    </tr>\n",
       "    <tr>\n",
       "      <th>3</th>\n",
       "      <td>4.000000</td>\n",
       "      <td>NaN</td>\n",
       "      <td>3.843750</td>\n",
       "      <td>3.843750</td>\n",
       "      <td>1883600.0</td>\n",
       "    </tr>\n",
       "    <tr>\n",
       "      <th>4</th>\n",
       "      <td>NaN</td>\n",
       "      <td>3.734375</td>\n",
       "      <td>3.390625</td>\n",
       "      <td>NaN</td>\n",
       "      <td>7931600.0</td>\n",
       "    </tr>\n",
       "    <tr>\n",
       "      <th>...</th>\n",
       "      <td>...</td>\n",
       "      <td>...</td>\n",
       "      <td>...</td>\n",
       "      <td>...</td>\n",
       "      <td>...</td>\n",
       "    </tr>\n",
       "    <tr>\n",
       "      <th>4387</th>\n",
       "      <td>113.790001</td>\n",
       "      <td>114.099998</td>\n",
       "      <td>112.790001</td>\n",
       "      <td>NaN</td>\n",
       "      <td>NaN</td>\n",
       "    </tr>\n",
       "    <tr>\n",
       "      <th>4388</th>\n",
       "      <td>112.519997</td>\n",
       "      <td>113.529999</td>\n",
       "      <td>111.160004</td>\n",
       "      <td>111.870003</td>\n",
       "      <td>NaN</td>\n",
       "    </tr>\n",
       "    <tr>\n",
       "      <th>4389</th>\n",
       "      <td>112.029999</td>\n",
       "      <td>112.489998</td>\n",
       "      <td>110.250000</td>\n",
       "      <td>112.230003</td>\n",
       "      <td>2136700.0</td>\n",
       "    </tr>\n",
       "    <tr>\n",
       "      <th>4390</th>\n",
       "      <td>112.459999</td>\n",
       "      <td>NaN</td>\n",
       "      <td>112.000000</td>\n",
       "      <td>112.339996</td>\n",
       "      <td>1251600.0</td>\n",
       "    </tr>\n",
       "    <tr>\n",
       "      <th>4391</th>\n",
       "      <td>112.300003</td>\n",
       "      <td>114.790001</td>\n",
       "      <td>112.010002</td>\n",
       "      <td>113.190002</td>\n",
       "      <td>1611700.0</td>\n",
       "    </tr>\n",
       "  </tbody>\n",
       "</table>\n",
       "<p>4392 rows × 5 columns</p>\n",
       "</div>"
      ],
      "text/plain": [
       "            Open        High         Low       Close     Volume\n",
       "0       3.812500    4.156250    3.812500         NaN        NaN\n",
       "1       4.125000    4.125000    4.000000    4.015625  1077600.0\n",
       "2       4.000000    4.031250    3.953125         NaN   437200.0\n",
       "3       4.000000         NaN    3.843750    3.843750  1883600.0\n",
       "4            NaN    3.734375    3.390625         NaN  7931600.0\n",
       "...          ...         ...         ...         ...        ...\n",
       "4387  113.790001  114.099998  112.790001         NaN        NaN\n",
       "4388  112.519997  113.529999  111.160004  111.870003        NaN\n",
       "4389  112.029999  112.489998  110.250000  112.230003  2136700.0\n",
       "4390  112.459999         NaN  112.000000  112.339996  1251600.0\n",
       "4391  112.300003  114.790001  112.010002  113.190002  1611700.0\n",
       "\n",
       "[4392 rows x 5 columns]"
      ]
     },
     "execution_count": 17,
     "metadata": {},
     "output_type": "execute_result"
    }
   ],
   "source": [
    "dataset=dataset.drop(['Date','Adj_Close'],axis=1)\n",
    "dataset"
   ]
  },
  {
   "cell_type": "code",
   "execution_count": 18,
   "id": "1b21f8ef",
   "metadata": {},
   "outputs": [
    {
     "data": {
      "text/html": [
       "<div>\n",
       "<style scoped>\n",
       "    .dataframe tbody tr th:only-of-type {\n",
       "        vertical-align: middle;\n",
       "    }\n",
       "\n",
       "    .dataframe tbody tr th {\n",
       "        vertical-align: top;\n",
       "    }\n",
       "\n",
       "    .dataframe thead th {\n",
       "        text-align: right;\n",
       "    }\n",
       "</style>\n",
       "<table border=\"1\" class=\"dataframe\">\n",
       "  <thead>\n",
       "    <tr style=\"text-align: right;\">\n",
       "      <th></th>\n",
       "      <th>Open</th>\n",
       "      <th>High</th>\n",
       "      <th>Low</th>\n",
       "      <th>Close</th>\n",
       "      <th>Volume</th>\n",
       "    </tr>\n",
       "  </thead>\n",
       "  <tbody>\n",
       "    <tr>\n",
       "      <th>count</th>\n",
       "      <td>3944.000000</td>\n",
       "      <td>3966.000000</td>\n",
       "      <td>3953.000000</td>\n",
       "      <td>3982.000000</td>\n",
       "      <td>3.938000e+03</td>\n",
       "    </tr>\n",
       "    <tr>\n",
       "      <th>mean</th>\n",
       "      <td>30.365155</td>\n",
       "      <td>31.016600</td>\n",
       "      <td>30.082124</td>\n",
       "      <td>30.478526</td>\n",
       "      <td>1.884715e+06</td>\n",
       "    </tr>\n",
       "    <tr>\n",
       "      <th>std</th>\n",
       "      <td>29.787025</td>\n",
       "      <td>30.406837</td>\n",
       "      <td>29.593366</td>\n",
       "      <td>29.844361</td>\n",
       "      <td>1.615297e+06</td>\n",
       "    </tr>\n",
       "    <tr>\n",
       "      <th>min</th>\n",
       "      <td>3.296875</td>\n",
       "      <td>3.562500</td>\n",
       "      <td>3.000000</td>\n",
       "      <td>3.250000</td>\n",
       "      <td>1.904000e+05</td>\n",
       "    </tr>\n",
       "    <tr>\n",
       "      <th>25%</th>\n",
       "      <td>8.685625</td>\n",
       "      <td>8.788750</td>\n",
       "      <td>8.575000</td>\n",
       "      <td>8.644375</td>\n",
       "      <td>1.084600e+06</td>\n",
       "    </tr>\n",
       "    <tr>\n",
       "      <th>50%</th>\n",
       "      <td>14.688750</td>\n",
       "      <td>14.995000</td>\n",
       "      <td>14.435000</td>\n",
       "      <td>14.737500</td>\n",
       "      <td>1.540600e+06</td>\n",
       "    </tr>\n",
       "    <tr>\n",
       "      <th>75%</th>\n",
       "      <td>42.436250</td>\n",
       "      <td>43.128751</td>\n",
       "      <td>41.945000</td>\n",
       "      <td>42.518750</td>\n",
       "      <td>2.188550e+06</td>\n",
       "    </tr>\n",
       "    <tr>\n",
       "      <th>max</th>\n",
       "      <td>121.080002</td>\n",
       "      <td>121.750000</td>\n",
       "      <td>120.169998</td>\n",
       "      <td>121.360001</td>\n",
       "      <td>4.641260e+07</td>\n",
       "    </tr>\n",
       "  </tbody>\n",
       "</table>\n",
       "</div>"
      ],
      "text/plain": [
       "              Open         High          Low        Close        Volume\n",
       "count  3944.000000  3966.000000  3953.000000  3982.000000  3.938000e+03\n",
       "mean     30.365155    31.016600    30.082124    30.478526  1.884715e+06\n",
       "std      29.787025    30.406837    29.593366    29.844361  1.615297e+06\n",
       "min       3.296875     3.562500     3.000000     3.250000  1.904000e+05\n",
       "25%       8.685625     8.788750     8.575000     8.644375  1.084600e+06\n",
       "50%      14.688750    14.995000    14.435000    14.737500  1.540600e+06\n",
       "75%      42.436250    43.128751    41.945000    42.518750  2.188550e+06\n",
       "max     121.080002   121.750000   120.169998   121.360001  4.641260e+07"
      ]
     },
     "execution_count": 18,
     "metadata": {},
     "output_type": "execute_result"
    }
   ],
   "source": [
    "dataset.describe()"
   ]
  },
  {
   "cell_type": "code",
   "execution_count": 19,
   "id": "cace455d",
   "metadata": {},
   "outputs": [
    {
     "name": "stdout",
     "output_type": "stream",
     "text": [
      "Open      448\n",
      "High      426\n",
      "Low       439\n",
      "Close     410\n",
      "Volume    454\n",
      "dtype: int64\n"
     ]
    }
   ],
   "source": [
    "print(dataset.isnull().sum())"
   ]
  },
  {
   "cell_type": "code",
   "execution_count": 20,
   "id": "51c7f9cb",
   "metadata": {},
   "outputs": [
    {
     "name": "stdout",
     "output_type": "stream",
     "text": [
      "<class 'pandas.core.frame.DataFrame'>\n",
      "RangeIndex: 4392 entries, 0 to 4391\n",
      "Data columns (total 5 columns):\n",
      " #   Column  Non-Null Count  Dtype  \n",
      "---  ------  --------------  -----  \n",
      " 0   Open    3944 non-null   float64\n",
      " 1   High    3966 non-null   float64\n",
      " 2   Low     3953 non-null   float64\n",
      " 3   Close   3982 non-null   float64\n",
      " 4   Volume  3938 non-null   float64\n",
      "dtypes: float64(5)\n",
      "memory usage: 171.7 KB\n"
     ]
    }
   ],
   "source": [
    "dataset.info()"
   ]
  },
  {
   "cell_type": "markdown",
   "id": "c9d0a904",
   "metadata": {},
   "source": [
    "# SPLIT INTO INDEPENDENT AND DEPENDENT VALUES"
   ]
  },
  {
   "cell_type": "code",
   "execution_count": 21,
   "id": "70763517",
   "metadata": {},
   "outputs": [
    {
     "data": {
      "text/plain": [
       "array([[  3.8125  ,   4.15625 ,   3.8125  ,        nan],\n",
       "       [  4.125   ,   4.125   ,   4.      ,   4.015625],\n",
       "       [  4.      ,   4.03125 ,   3.953125,        nan],\n",
       "       ...,\n",
       "       [112.029999, 112.489998, 110.25    , 112.230003],\n",
       "       [112.459999,        nan, 112.      , 112.339996],\n",
       "       [112.300003, 114.790001, 112.010002, 113.190002]])"
      ]
     },
     "execution_count": 21,
     "metadata": {},
     "output_type": "execute_result"
    }
   ],
   "source": [
    "x=dataset.iloc[:,:-1].values\n",
    "x"
   ]
  },
  {
   "cell_type": "code",
   "execution_count": 22,
   "id": "b8245d53",
   "metadata": {},
   "outputs": [
    {
     "data": {
      "text/plain": [
       "array([[     nan],\n",
       "       [1077600.],\n",
       "       [ 437200.],\n",
       "       ...,\n",
       "       [2136700.],\n",
       "       [1251600.],\n",
       "       [1611700.]])"
      ]
     },
     "execution_count": 22,
     "metadata": {},
     "output_type": "execute_result"
    }
   ],
   "source": [
    "y=dataset[['Volume']].values\n",
    "y"
   ]
  },
  {
   "cell_type": "code",
   "execution_count": 23,
   "id": "6b5b3b60",
   "metadata": {},
   "outputs": [
    {
     "data": {
      "text/plain": [
       "array([[  3.8125  ],\n",
       "       [  4.125   ],\n",
       "       [  4.      ],\n",
       "       ...,\n",
       "       [112.029999],\n",
       "       [112.459999],\n",
       "       [112.300003]])"
      ]
     },
     "execution_count": 23,
     "metadata": {},
     "output_type": "execute_result"
    }
   ],
   "source": [
    "x[:,0:1]"
   ]
  },
  {
   "cell_type": "code",
   "execution_count": 24,
   "id": "114dccd3",
   "metadata": {},
   "outputs": [
    {
     "data": {
      "text/plain": [
       "array([[  3.8125    ,   4.15625   ,   3.8125    ,  30.47852621],\n",
       "       [  4.125     ,   4.125     ,   4.        ,   4.015625  ],\n",
       "       [  4.        ,   4.03125   ,   3.953125  ,  30.47852621],\n",
       "       ...,\n",
       "       [112.029999  , 112.489998  , 110.25      , 112.230003  ],\n",
       "       [112.459999  ,  31.01659994, 112.        , 112.339996  ],\n",
       "       [112.300003  , 114.790001  , 112.010002  , 113.190002  ]])"
      ]
     },
     "execution_count": 24,
     "metadata": {},
     "output_type": "execute_result"
    }
   ],
   "source": [
    "from sklearn.impute import SimpleImputer\n",
    "imputer=SimpleImputer(missing_values=np.nan,strategy='mean')\n",
    "imputer=imputer.fit(x[:,0:4])\n",
    "x[:,0:4]=imputer.transform(x[:,0:4])\n",
    "x"
   ]
  },
  {
   "cell_type": "markdown",
   "id": "46cbb485",
   "metadata": {},
   "source": [
    "# SPLITTING DATASET INTO TRAINING AND TESTING"
   ]
  },
  {
   "cell_type": "code",
   "execution_count": 25,
   "id": "59718977",
   "metadata": {},
   "outputs": [],
   "source": [
    "\n",
    "from sklearn.model_selection import train_test_split\n",
    "x_train,x_test,y_train,y_test=train_test_split(x,y,test_size=0.25,random_state=1)"
   ]
  },
  {
   "cell_type": "code",
   "execution_count": 26,
   "id": "5b0612d6",
   "metadata": {},
   "outputs": [
    {
     "name": "stdout",
     "output_type": "stream",
     "text": [
      "[[11.875      11.9675     11.8225     11.83      ]\n",
      " [11.1175     11.1225     11.0075     11.07      ]\n",
      " [49.439999   49.75       30.08212398 49.59      ]\n",
      " ...\n",
      " [ 7.2625      7.2775      7.24        7.27      ]\n",
      " [78.790001   79.779999   78.339996   78.839996  ]\n",
      " [ 5.3075      5.325       5.         30.47852621]]\n"
     ]
    }
   ],
   "source": [
    "print(x_train)"
   ]
  },
  {
   "cell_type": "code",
   "execution_count": 27,
   "id": "575f7d84",
   "metadata": {},
   "outputs": [
    {
     "name": "stdout",
     "output_type": "stream",
     "text": [
      "[[74.894997   75.205002   30.08212398 73.385002  ]\n",
      " [42.110001   42.360001   41.555      41.685001  ]\n",
      " [ 6.775       6.775       6.6975      6.7025    ]\n",
      " ...\n",
      " [12.3675     12.3825     12.265      12.375     ]\n",
      " [ 7.1625      7.39        6.85        6.85      ]\n",
      " [43.52       43.855      43.189999   43.709999  ]]\n"
     ]
    }
   ],
   "source": [
    "print(x_test)"
   ]
  },
  {
   "cell_type": "code",
   "execution_count": 28,
   "id": "6956f415",
   "metadata": {},
   "outputs": [
    {
     "name": "stdout",
     "output_type": "stream",
     "text": [
      "[[     nan]\n",
      " [ 994400.]\n",
      " [ 893400.]\n",
      " ...\n",
      " [1412000.]\n",
      " [2080300.]\n",
      " [ 742800.]]\n"
     ]
    }
   ],
   "source": [
    "print(y_train)"
   ]
  },
  {
   "cell_type": "code",
   "execution_count": 29,
   "id": "331dabce",
   "metadata": {},
   "outputs": [
    {
     "name": "stdout",
     "output_type": "stream",
     "text": [
      "[[3527800.]\n",
      " [1367600.]\n",
      " [ 760000.]\n",
      " ...\n",
      " [     nan]\n",
      " [1508000.]\n",
      " [2038000.]]\n"
     ]
    }
   ],
   "source": [
    "print(y_test)"
   ]
  },
  {
   "cell_type": "markdown",
   "id": "b7d1c14b",
   "metadata": {},
   "source": [
    "# FEATURE SCALING"
   ]
  },
  {
   "cell_type": "code",
   "execution_count": 30,
   "id": "1c565143",
   "metadata": {},
   "outputs": [],
   "source": [
    "from sklearn.preprocessing import StandardScaler"
   ]
  },
  {
   "cell_type": "code",
   "execution_count": 31,
   "id": "0b0ddc61",
   "metadata": {},
   "outputs": [
    {
     "name": "stdout",
     "output_type": "stream",
     "text": [
      "[[-0.64810942 -0.65393345 -0.64369855 -0.64735721]\n",
      " [-0.6750304  -0.68327755 -0.67283658 -0.6740822 ]\n",
      " [ 0.68692274  0.65812967  0.00912284  0.6804528 ]\n",
      " ...\n",
      " [-0.81203424 -0.81680187 -0.80753292 -0.80770715]\n",
      " [ 1.73        1.70097369  1.73444705  1.70901312]\n",
      " [-0.88151349 -0.88460583 -0.88761781  0.00840814]]\n",
      "[[ 1.5376422   1.49274964 -0.02699186  1.48925612]\n",
      " [ 0.38586918  0.36650774  0.37754318  0.37026173]\n",
      " [-0.85548832 -0.85368766 -0.85153661 -0.8646033 ]\n",
      " ...\n",
      " [-0.65901764 -0.66140874 -0.65522587 -0.66436685]\n",
      " [-0.84187502 -0.83259956 -0.84615944 -0.85939662]\n",
      " [ 0.435404    0.41777066  0.43519345  0.44174316]]\n"
     ]
    }
   ],
   "source": [
    "scaler=StandardScaler()\n",
    "x_train=scaler.fit_transform(x_train)\n",
    "x_test=scaler.fit_transform(x_test)\n",
    "print(x_train)\n",
    "print(x_test)"
   ]
  },
  {
   "cell_type": "code",
   "execution_count": null,
   "id": "9da7cc3a",
   "metadata": {},
   "outputs": [],
   "source": []
  }
 ],
 "metadata": {
  "kernelspec": {
   "display_name": "Python 3 (ipykernel)",
   "language": "python",
   "name": "python3"
  },
  "language_info": {
   "codemirror_mode": {
    "name": "ipython",
    "version": 3
   },
   "file_extension": ".py",
   "mimetype": "text/x-python",
   "name": "python",
   "nbconvert_exporter": "python",
   "pygments_lexer": "ipython3",
   "version": "3.9.12"
  }
 },
 "nbformat": 4,
 "nbformat_minor": 5
}
